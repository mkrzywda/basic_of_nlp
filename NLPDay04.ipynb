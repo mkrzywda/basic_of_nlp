{
  "nbformat": 4,
  "nbformat_minor": 0,
  "metadata": {
    "colab": {
      "name": "NLPDay04.ipynb",
      "provenance": [],
      "collapsed_sections": []
    },
    "kernelspec": {
      "name": "python3",
      "display_name": "Python 3"
    }
  },
  "cells": [
    {
      "cell_type": "code",
      "metadata": {
        "id": "NACYZgEF7ZgW",
        "colab_type": "code",
        "colab": {}
      },
      "source": [
        "import pandas as pd\n",
        "from gensim.utils import simple_preprocess\n",
        "from gensim.models import Word2Vec\n",
        "from gensim.models.phrases import Phrases, Phraser"
      ],
      "execution_count": 0,
      "outputs": []
    },
    {
      "cell_type": "code",
      "metadata": {
        "id": "zMyXNxYh88Rr",
        "colab_type": "code",
        "colab": {}
      },
      "source": [
        "df = pd.read_csv('job_ofer.csv')\n",
        "df.shape"
      ],
      "execution_count": 0,
      "outputs": []
    },
    {
      "cell_type": "code",
      "metadata": {
        "id": "KbHT8ibI90GY",
        "colab_type": "code",
        "outputId": "dc39bc64-d49a-4dd5-efd0-9a96f21cd707",
        "colab": {
          "base_uri": "https://localhost:8080/",
          "height": 504
        }
      },
      "source": [
        "df.head()"
      ],
      "execution_count": 0,
      "outputs": [
        {
          "output_type": "execute_result",
          "data": {
            "text/html": [
              "<div>\n",
              "<style scoped>\n",
              "    .dataframe tbody tr th:only-of-type {\n",
              "        vertical-align: middle;\n",
              "    }\n",
              "\n",
              "    .dataframe tbody tr th {\n",
              "        vertical-align: top;\n",
              "    }\n",
              "\n",
              "    .dataframe thead th {\n",
              "        text-align: right;\n",
              "    }\n",
              "</style>\n",
              "<table border=\"1\" class=\"dataframe\">\n",
              "  <thead>\n",
              "    <tr style=\"text-align: right;\">\n",
              "      <th></th>\n",
              "      <th>title</th>\n",
              "      <th>company_name</th>\n",
              "      <th>address</th>\n",
              "      <th>description</th>\n",
              "      <th>seniority_level</th>\n",
              "      <th>employment_type</th>\n",
              "      <th>job_function</th>\n",
              "      <th>industries</th>\n",
              "    </tr>\n",
              "  </thead>\n",
              "  <tbody>\n",
              "    <tr>\n",
              "      <th>0</th>\n",
              "      <td>Machine Learning Engineer</td>\n",
              "      <td>Intellipro Group Inc</td>\n",
              "      <td>Palo Alto, CA, US</td>\n",
              "      <td>['About The Company', \"W*** is reshaping the f...</td>\n",
              "      <td>Entry level</td>\n",
              "      <td>Full-time</td>\n",
              "      <td>Engineering</td>\n",
              "      <td>Information Technology and Services</td>\n",
              "    </tr>\n",
              "    <tr>\n",
              "      <th>1</th>\n",
              "      <td>Deep Learning Applied Researcher - Chicago</td>\n",
              "      <td>Ethosia</td>\n",
              "      <td>Chicago, IL, US</td>\n",
              "      <td>['תיאור המשרה', 'Deep learning for Computer Vi...</td>\n",
              "      <td>Associate</td>\n",
              "      <td>Full-time</td>\n",
              "      <td>Other</td>\n",
              "      <td>Information Technology and Services</td>\n",
              "    </tr>\n",
              "    <tr>\n",
              "      <th>2</th>\n",
              "      <td>Machine Learning Engineer</td>\n",
              "      <td>Motorola Solutions</td>\n",
              "      <td>Chicago, IL, US</td>\n",
              "      <td>['Company Overview', 'At Motorola Solutions, w...</td>\n",
              "      <td>Entry level</td>\n",
              "      <td>Full-time</td>\n",
              "      <td>Engineering</td>\n",
              "      <td>Information Technology and Services</td>\n",
              "    </tr>\n",
              "    <tr>\n",
              "      <th>3</th>\n",
              "      <td>Machine Learning / Data Scientist</td>\n",
              "      <td>Proprius LLC</td>\n",
              "      <td>San Francisco, CA, US</td>\n",
              "      <td>['Our client is a digital invention agency foc...</td>\n",
              "      <td>Entry level</td>\n",
              "      <td>Full-time</td>\n",
              "      <td>Engineering</td>\n",
              "      <td>Information Technology and Services</td>\n",
              "    </tr>\n",
              "    <tr>\n",
              "      <th>4</th>\n",
              "      <td>Cloud Architect</td>\n",
              "      <td>TCS</td>\n",
              "      <td>Framingham, Massachusetts, United States</td>\n",
              "      <td>['Technical/Functional Skills', ' ', 'Good to ...</td>\n",
              "      <td>Mid-Senior level</td>\n",
              "      <td>Full-time</td>\n",
              "      <td>Engineering</td>\n",
              "      <td>Information Technology and Services</td>\n",
              "    </tr>\n",
              "  </tbody>\n",
              "</table>\n",
              "</div>"
            ],
            "text/plain": [
              "                                        title  ...                           industries\n",
              "0                   Machine Learning Engineer  ...  Information Technology and Services\n",
              "1  Deep Learning Applied Researcher - Chicago  ...  Information Technology and Services\n",
              "2                   Machine Learning Engineer  ...  Information Technology and Services\n",
              "3           Machine Learning / Data Scientist  ...  Information Technology and Services\n",
              "4                             Cloud Architect  ...  Information Technology and Services\n",
              "\n",
              "[5 rows x 8 columns]"
            ]
          },
          "metadata": {
            "tags": []
          },
          "execution_count": 31
        }
      ]
    },
    {
      "cell_type": "code",
      "metadata": {
        "id": "KxBGwlBh93SX",
        "colab_type": "code",
        "colab": {}
      },
      "source": [
        "## Word2Vec\n",
        "title_corpus = df['title'].map(simple_preprocess)\n",
        "title_bigram = Phraser(Phrases(title_corpus,min_count=1, threshold =1))"
      ],
      "execution_count": 0,
      "outputs": []
    },
    {
      "cell_type": "code",
      "metadata": {
        "id": "CwiBLUr2AAbj",
        "colab_type": "code",
        "outputId": "378742f6-04e7-4f2b-b7d8-fbc66ac81605",
        "colab": {
          "base_uri": "https://localhost:8080/",
          "height": 34
        }
      },
      "source": [
        "title_bigram[simple_preprocess('Machine Learning / Data Scientist')]"
      ],
      "execution_count": 0,
      "outputs": [
        {
          "output_type": "execute_result",
          "data": {
            "text/plain": [
              "['machine_learning', 'data_scientist']"
            ]
          },
          "metadata": {
            "tags": []
          },
          "execution_count": 33
        }
      ]
    },
    {
      "cell_type": "code",
      "metadata": {
        "id": "cJxfqCYxAbLp",
        "colab_type": "code",
        "colab": {}
      },
      "source": [
        "#title_corpus_phrase = [title_bigram[sent] for sent in title_corpus ]\n",
        "model = Word2Vec(title_corpus_phrase, size=100, window=2, min_count=1)"
      ],
      "execution_count": 0,
      "outputs": []
    },
    {
      "cell_type": "code",
      "metadata": {
        "id": "xi1XQvvSApiZ",
        "colab_type": "code",
        "outputId": "3398b190-e944-4892-c2aa-87e5ee0a3313",
        "colab": {
          "base_uri": "https://localhost:8080/",
          "height": 245
        }
      },
      "source": [
        "model.wv.most_similar('machine')"
      ],
      "execution_count": 0,
      "outputs": [
        {
          "output_type": "stream",
          "text": [
            "/usr/local/lib/python3.6/dist-packages/gensim/matutils.py:737: FutureWarning: Conversion of the second argument of issubdtype from `int` to `np.signedinteger` is deprecated. In future, it will be treated as `np.int64 == np.dtype(int).type`.\n",
            "  if np.issubdtype(vec.dtype, np.int):\n"
          ],
          "name": "stderr"
        },
        {
          "output_type": "execute_result",
          "data": {
            "text/plain": [
              "[('hire', 0.9437718391418457),\n",
              " ('open_position', 0.943236231803894),\n",
              " ('product_management', 0.942812442779541),\n",
              " ('st_and', 0.9383944272994995),\n",
              " ('engineer_qa', 0.9376949071884155),\n",
              " ('naperville_illinois', 0.9369106888771057),\n",
              " ('product_insights', 0.9368439316749573),\n",
              " ('people', 0.9368051290512085),\n",
              " ('chief_operating', 0.9357814192771912),\n",
              " ('art_director', 0.9354199171066284)]"
            ]
          },
          "metadata": {
            "tags": []
          },
          "execution_count": 39
        }
      ]
    },
    {
      "cell_type": "code",
      "metadata": {
        "id": "4zQJBzMW-SnZ",
        "colab_type": "code",
        "colab": {}
      },
      "source": [
        "model = Word2Vec(corpus, size=100, window=2, min_count=1)"
      ],
      "execution_count": 0,
      "outputs": []
    },
    {
      "cell_type": "code",
      "metadata": {
        "id": "oRvgkmMn-XrD",
        "colab_type": "code",
        "colab": {}
      },
      "source": [
        "model.wv.most_similar('machine')"
      ],
      "execution_count": 0,
      "outputs": []
    },
    {
      "cell_type": "code",
      "metadata": {
        "id": "s55Cu9ms-jTZ",
        "colab_type": "code",
        "colab": {}
      },
      "source": [
        "#Example\n",
        "corpus = [\n",
        "    ['machine', 'learning', 'c'],\n",
        "    ['machine', 'learning', 'z'],\n",
        "    ['y', 'machine', 'learning'],\n",
        "    ['q', 'machine', 'learning', 'u', 'k'],\n",
        "]\n",
        "bigram = Phraser(Phrases(corpus,min_count=1, threshold =1))"
      ],
      "execution_count": 0,
      "outputs": []
    },
    {
      "cell_type": "code",
      "metadata": {
        "id": "_ooqfmjQ_VA_",
        "colab_type": "code",
        "outputId": "c2356502-a45a-41c6-c0ba-5f4d91f00f13",
        "colab": {
          "base_uri": "https://localhost:8080/",
          "height": 34
        }
      },
      "source": [
        "bigram[['k','machine','learning','c']]"
      ],
      "execution_count": 0,
      "outputs": [
        {
          "output_type": "execute_result",
          "data": {
            "text/plain": [
              "['k', 'machine_learning', 'c']"
            ]
          },
          "metadata": {
            "tags": []
          },
          "execution_count": 29
        }
      ]
    },
    {
      "cell_type": "code",
      "metadata": {
        "id": "9ht-UZv-AyKV",
        "colab_type": "code",
        "colab": {}
      },
      "source": [
        "def prepare_corpus(corpus,bigram):\n",
        "  for sent in corpus:\n",
        "    yield bigram[sent] + sent\n"
      ],
      "execution_count": 0,
      "outputs": []
    },
    {
      "cell_type": "code",
      "metadata": {
        "id": "-MEDUJxTBdzl",
        "colab_type": "code",
        "colab": {}
      },
      "source": [
        "ext_corp = list(prepare_corpus(title_corpus,title_bigram))\n",
        "title_model = Word2Vec(ext_corp, size =100, window=2,min_count=1)"
      ],
      "execution_count": 0,
      "outputs": []
    },
    {
      "cell_type": "code",
      "metadata": {
        "id": "Pv-KoSiBCJiJ",
        "colab_type": "code",
        "outputId": "8503c772-f741-4f84-ee2f-37edc8c206e3",
        "colab": {
          "base_uri": "https://localhost:8080/",
          "height": 245
        }
      },
      "source": [
        "title_model.wv.most_similar('machine')"
      ],
      "execution_count": 0,
      "outputs": [
        {
          "output_type": "stream",
          "text": [
            "/usr/local/lib/python3.6/dist-packages/gensim/matutils.py:737: FutureWarning: Conversion of the second argument of issubdtype from `int` to `np.signedinteger` is deprecated. In future, it will be treated as `np.int64 == np.dtype(int).type`.\n",
            "  if np.issubdtype(vec.dtype, np.int):\n"
          ],
          "name": "stderr"
        },
        {
          "output_type": "execute_result",
          "data": {
            "text/plain": [
              "[('deep', 0.9540992975234985),\n",
              " ('learning', 0.9522639513015747),\n",
              " ('machine_learning', 0.9522262811660767),\n",
              " ('learning_product', 0.9438967704772949),\n",
              " ('autopilot', 0.9428563714027405),\n",
              " ('big', 0.9405083656311035),\n",
              " ('rockville', 0.9345099925994873),\n",
              " ('deep_learning', 0.9312281608581543),\n",
              " ('nlp', 0.924298107624054),\n",
              " ('data_engineer', 0.9241888523101807)]"
            ]
          },
          "metadata": {
            "tags": []
          },
          "execution_count": 51
        }
      ]
    },
    {
      "cell_type": "code",
      "metadata": {
        "id": "23S7-u3_CdWh",
        "colab_type": "code",
        "outputId": "5ebd9b01-abaf-4893-82e5-d00c28bed711",
        "colab": {
          "base_uri": "https://localhost:8080/",
          "height": 1000
        }
      },
      "source": [
        "simple_preprocess(df.sample()['description'].values[0])"
      ],
      "execution_count": 0,
      "outputs": [
        {
          "output_type": "execute_result",
          "data": {
            "text/plain": [
              "['shop',\n",
              " 'duties',\n",
              " 'includes',\n",
              " 'rebuilding',\n",
              " 'repair',\n",
              " 'of',\n",
              " 'driveshafts',\n",
              " 'resurfacing',\n",
              " 'flywheels',\n",
              " 'brake',\n",
              " 'drums',\n",
              " 'rotors',\n",
              " 'and',\n",
              " 'rebuilding',\n",
              " 'small',\n",
              " 'automotive',\n",
              " 'components',\n",
              " 'such',\n",
              " 'as',\n",
              " 'power',\n",
              " 'take',\n",
              " 'offs',\n",
              " 'heavy',\n",
              " 'duty',\n",
              " 'fan',\n",
              " 'clutches',\n",
              " 'keep',\n",
              " 'shop',\n",
              " 'clean',\n",
              " 'orderly',\n",
              " 'maintaining',\n",
              " 'the',\n",
              " 'equipment',\n",
              " 'some',\n",
              " 'occasional',\n",
              " 'driving',\n",
              " 'should',\n",
              " 'possess',\n",
              " 'at',\n",
              " 'least',\n",
              " 'some',\n",
              " 'of',\n",
              " 'the',\n",
              " 'following',\n",
              " 'skills',\n",
              " 'mechanically',\n",
              " 'inclined',\n",
              " 'must',\n",
              " 'have',\n",
              " 'skilled',\n",
              " 'in',\n",
              " 'variety',\n",
              " 'of',\n",
              " 'shop',\n",
              " 'machines',\n",
              " 'such',\n",
              " 'as',\n",
              " 'welder',\n",
              " 'drill',\n",
              " 'press',\n",
              " 'lathe',\n",
              " 'press',\n",
              " 'punctual',\n",
              " 'self',\n",
              " 'motivated',\n",
              " 'must',\n",
              " 'have',\n",
              " 'current',\n",
              " 'clean',\n",
              " 'driving',\n",
              " 'record',\n",
              " 'ability',\n",
              " 'to',\n",
              " 'multi',\n",
              " 'task',\n",
              " 'organizational',\n",
              " 'skills',\n",
              " 'we',\n",
              " 'are',\n",
              " 'small',\n",
              " 'parts',\n",
              " 'store',\n",
              " 'similar',\n",
              " 'to',\n",
              " 'napa',\n",
              " 'but',\n",
              " 'specializing',\n",
              " 'in',\n",
              " 'medium',\n",
              " 'heavy',\n",
              " 'duty',\n",
              " 'truck',\n",
              " 'parts',\n",
              " 'we',\n",
              " 'also',\n",
              " 'have',\n",
              " 'machine',\n",
              " 'shop',\n",
              " 'we',\n",
              " 'fabricate',\n",
              " 'repair',\n",
              " 'driveshafts',\n",
              " 'as',\n",
              " 'well',\n",
              " 'as',\n",
              " 'repairing',\n",
              " 'other',\n",
              " 'small',\n",
              " 'components',\n",
              " 'we',\n",
              " 'are',\n",
              " 'small',\n",
              " 'but',\n",
              " 'have',\n",
              " 'an',\n",
              " 'aggressive',\n",
              " 'outlook',\n",
              " 'for',\n",
              " 'the',\n",
              " 'future']"
            ]
          },
          "metadata": {
            "tags": []
          },
          "execution_count": 65
        }
      ]
    },
    {
      "cell_type": "code",
      "metadata": {
        "id": "r2kqMKNqCyx4",
        "colab_type": "code",
        "colab": {}
      },
      "source": [
        "descr_corpus = df['description'].astype(str).map(simple_preprocess)\n",
        "descr_bigram = Phraser( Phrases( descr_corpus, min_count=1,threshold=100 ))"
      ],
      "execution_count": 0,
      "outputs": []
    },
    {
      "cell_type": "code",
      "metadata": {
        "colab_type": "code",
        "id": "Jt-57ZJACznH",
        "colab": {}
      },
      "source": [
        "#ext_descr_corp = list(prepare_corpus(descr_corpus,descr_bigram))\n",
        "descr_model = Word2Vec(descr_corpus, size =100, window=2,min_count=1)"
      ],
      "execution_count": 0,
      "outputs": []
    },
    {
      "cell_type": "code",
      "metadata": {
        "colab_type": "code",
        "id": "c53RGZkBCzDQ",
        "outputId": "8e285c00-e374-4a7e-bced-445af80dc34f",
        "colab": {
          "base_uri": "https://localhost:8080/",
          "height": 245
        }
      },
      "source": [
        "descr_model.wv.most_similar('machine')"
      ],
      "execution_count": 0,
      "outputs": [
        {
          "output_type": "stream",
          "text": [
            "/usr/local/lib/python3.6/dist-packages/gensim/matutils.py:737: FutureWarning: Conversion of the second argument of issubdtype from `int` to `np.signedinteger` is deprecated. In future, it will be treated as `np.int64 == np.dtype(int).type`.\n",
            "  if np.issubdtype(vec.dtype, np.int):\n"
          ],
          "name": "stderr"
        },
        {
          "output_type": "execute_result",
          "data": {
            "text/plain": [
              "[('ml', 0.5925709009170532),\n",
              " ('cnc', 0.5838050842285156),\n",
              " ('computer', 0.5768521428108215),\n",
              " ('ml_deep', 0.549296498298645),\n",
              " ('algorithms', 0.5406600832939148),\n",
              " ('reinforcement', 0.5366093516349792),\n",
              " ('deploy_machine', 0.5359534025192261),\n",
              " ('ai_machine', 0.5355337858200073),\n",
              " ('leverage_machine', 0.529880702495575),\n",
              " ('uf_instruct', 0.5296909213066101)]"
            ]
          },
          "metadata": {
            "tags": []
          },
          "execution_count": 71
        }
      ]
    },
    {
      "cell_type": "markdown",
      "metadata": {
        "id": "WvI5rhSfGv52",
        "colab_type": "text"
      },
      "source": [
        ""
      ]
    },
    {
      "cell_type": "code",
      "metadata": {
        "id": "qC1PlNS9G27W",
        "colab_type": "code",
        "outputId": "94068f3a-8efa-4100-e19a-4fa9b3d0a308",
        "colab": {
          "base_uri": "https://localhost:8080/",
          "height": 245
        }
      },
      "source": [
        "title_model.wv.most_similar('nlp')"
      ],
      "execution_count": 0,
      "outputs": [
        {
          "output_type": "stream",
          "text": [
            "/usr/local/lib/python3.6/dist-packages/gensim/matutils.py:737: FutureWarning: Conversion of the second argument of issubdtype from `int` to `np.signedinteger` is deprecated. In future, it will be treated as `np.int64 == np.dtype(int).type`.\n",
            "  if np.issubdtype(vec.dtype, np.int):\n"
          ],
          "name": "stderr"
        },
        {
          "output_type": "execute_result",
          "data": {
            "text/plain": [
              "[('personalization', 0.9937888383865356),\n",
              " ('computer_vision', 0.9937477111816406),\n",
              " ('deep_learning', 0.9933191537857056),\n",
              " ('applied', 0.9928791522979736),\n",
              " ('deep', 0.9926867485046387),\n",
              " ('alpharetta', 0.9913766980171204),\n",
              " ('computer', 0.9884839057922363),\n",
              " ('engineer_personalization', 0.9870569109916687),\n",
              " ('ml_engineer', 0.9865157604217529),\n",
              " ('artificial_intelligence', 0.9862765073776245)]"
            ]
          },
          "metadata": {
            "tags": []
          },
          "execution_count": 72
        }
      ]
    },
    {
      "cell_type": "code",
      "metadata": {
        "id": "lOOchldPG8WZ",
        "colab_type": "code",
        "outputId": "08554df9-7c51-4cf9-a11e-a088356a6a18",
        "colab": {
          "base_uri": "https://localhost:8080/",
          "height": 54
        }
      },
      "source": [
        "df.sample()['description'].values[0]"
      ],
      "execution_count": 0,
      "outputs": [
        {
          "output_type": "execute_result",
          "data": {
            "text/plain": [
              "\"['We are looking for Physical Therapist (PT) for our client in Berlin, NH', 'Job Description', 'Required Physical Therapist (PT)', 'Number of openings - 1', 'SNF Experience Required', 'Active license required', 'Shift', 'Minimum 1 year experience required', 'Day', 'Skills', 'Rehabilitation Therapy', 'Physical Therapist', 'Skilled Nursing Facility', 'Company Overview', 'Cynet Health is a Joint Commission Certified and an award winning Healthcare Staffing & Recruiting firm. Cynet Health works with hospitals, health & wellness centers, pharmacy, and medical facilities in all 50 states across the United States. With 100+ recruiting and support staff, we make sure we take good care of our people. More details on our website at www.cynethealth.com', 'Benefits', 'Competitive Salary - Maximum Net pay', 'Free Housing Or Tax Free Housing Stipend', 'Travel Stipend', 'Wallet money (misc. expenses)', 'Amazon Gift Card - Contract Completion Gift', 'Referral Bonus', 'Hike in pay with contract extension', 'Weekly Payroll', 'Free Immunizations', 'Reimbursement for license/certifications', 'First Day Insurance: Medical, Dental and Vision', 'Resumes or queries may can be sent to apply@cynethealth.com and someone from our team will get back to you to discuss possible job options.', 'For more job options please visit http://jobs.cynethealth.com and apply directly.']\""
            ]
          },
          "metadata": {
            "tags": []
          },
          "execution_count": 73
        }
      ]
    },
    {
      "cell_type": "code",
      "metadata": {
        "id": "kqYalPNawvx4",
        "colab_type": "code",
        "colab": {}
      },
      "source": [
        ""
      ],
      "execution_count": 0,
      "outputs": []
    },
    {
      "cell_type": "code",
      "metadata": {
        "id": "JNxghfulxK7P",
        "colab_type": "code",
        "colab": {}
      },
      "source": [
        ""
      ],
      "execution_count": 0,
      "outputs": []
    }
  ]
}