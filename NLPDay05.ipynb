{
  "nbformat": 4,
  "nbformat_minor": 0,
  "metadata": {
    "colab": {
      "name": "NLPDay05.ipynb",
      "provenance": []
    },
    "kernelspec": {
      "name": "python3",
      "display_name": "Python 3"
    }
  },
  "cells": [
    {
      "cell_type": "code",
      "metadata": {
        "id": "WXPpLZ19xUsC",
        "colab_type": "code",
        "colab": {}
      },
      "source": [
        "import pandas as pd\n",
        "from gensim.utils import simple_preprocess\n",
        "from gensim.models import Doc2Vec\n",
        "from gensim.models.doc2vec import TaggedDocument"
      ],
      "execution_count": 0,
      "outputs": []
    },
    {
      "cell_type": "code",
      "metadata": {
        "id": "nZv4t4JtxrI-",
        "colab_type": "code",
        "outputId": "c6cfabae-3a4b-406c-a53f-521c270d87a0",
        "colab": {
          "base_uri": "https://localhost:8080/",
          "height": 34
        }
      },
      "source": [
        "df = pd.read_csv('job_ofer.csv')\n",
        "df.shape"
      ],
      "execution_count": 0,
      "outputs": [
        {
          "output_type": "execute_result",
          "data": {
            "text/plain": [
              "(36109, 8)"
            ]
          },
          "metadata": {
            "tags": []
          },
          "execution_count": 12
        }
      ]
    },
    {
      "cell_type": "code",
      "metadata": {
        "id": "cEChlojSx1WR",
        "colab_type": "code",
        "outputId": "cd45d36e-9327-4f04-f83b-c9933bd43937",
        "colab": {
          "base_uri": "https://localhost:8080/",
          "height": 380
        }
      },
      "source": [
        "df.head()"
      ],
      "execution_count": 0,
      "outputs": [
        {
          "output_type": "execute_result",
          "data": {
            "text/html": [
              "<div>\n",
              "<style scoped>\n",
              "    .dataframe tbody tr th:only-of-type {\n",
              "        vertical-align: middle;\n",
              "    }\n",
              "\n",
              "    .dataframe tbody tr th {\n",
              "        vertical-align: top;\n",
              "    }\n",
              "\n",
              "    .dataframe thead th {\n",
              "        text-align: right;\n",
              "    }\n",
              "</style>\n",
              "<table border=\"1\" class=\"dataframe\">\n",
              "  <thead>\n",
              "    <tr style=\"text-align: right;\">\n",
              "      <th></th>\n",
              "      <th>title</th>\n",
              "      <th>company_name</th>\n",
              "      <th>address</th>\n",
              "      <th>description</th>\n",
              "      <th>seniority_level</th>\n",
              "      <th>employment_type</th>\n",
              "      <th>job_function</th>\n",
              "      <th>industries</th>\n",
              "    </tr>\n",
              "  </thead>\n",
              "  <tbody>\n",
              "    <tr>\n",
              "      <th>0</th>\n",
              "      <td>Machine Learning Engineer</td>\n",
              "      <td>Intellipro Group Inc</td>\n",
              "      <td>Palo Alto, CA, US</td>\n",
              "      <td>['About The Company', \"W*** is reshaping the f...</td>\n",
              "      <td>Entry level</td>\n",
              "      <td>Full-time</td>\n",
              "      <td>Engineering</td>\n",
              "      <td>Information Technology and Services</td>\n",
              "    </tr>\n",
              "    <tr>\n",
              "      <th>1</th>\n",
              "      <td>Deep Learning Applied Researcher - Chicago</td>\n",
              "      <td>Ethosia</td>\n",
              "      <td>Chicago, IL, US</td>\n",
              "      <td>['תיאור המשרה', 'Deep learning for Computer Vi...</td>\n",
              "      <td>Associate</td>\n",
              "      <td>Full-time</td>\n",
              "      <td>Other</td>\n",
              "      <td>Information Technology and Services</td>\n",
              "    </tr>\n",
              "    <tr>\n",
              "      <th>2</th>\n",
              "      <td>Machine Learning Engineer</td>\n",
              "      <td>Motorola Solutions</td>\n",
              "      <td>Chicago, IL, US</td>\n",
              "      <td>['Company Overview', 'At Motorola Solutions, w...</td>\n",
              "      <td>Entry level</td>\n",
              "      <td>Full-time</td>\n",
              "      <td>Engineering</td>\n",
              "      <td>Information Technology and Services</td>\n",
              "    </tr>\n",
              "    <tr>\n",
              "      <th>3</th>\n",
              "      <td>Machine Learning / Data Scientist</td>\n",
              "      <td>Proprius LLC</td>\n",
              "      <td>San Francisco, CA, US</td>\n",
              "      <td>['Our client is a digital invention agency foc...</td>\n",
              "      <td>Entry level</td>\n",
              "      <td>Full-time</td>\n",
              "      <td>Engineering</td>\n",
              "      <td>Information Technology and Services</td>\n",
              "    </tr>\n",
              "    <tr>\n",
              "      <th>4</th>\n",
              "      <td>Cloud Architect</td>\n",
              "      <td>TCS</td>\n",
              "      <td>Framingham, Massachusetts, United States</td>\n",
              "      <td>['Technical/Functional Skills', ' ', 'Good to ...</td>\n",
              "      <td>Mid-Senior level</td>\n",
              "      <td>Full-time</td>\n",
              "      <td>Engineering</td>\n",
              "      <td>Information Technology and Services</td>\n",
              "    </tr>\n",
              "  </tbody>\n",
              "</table>\n",
              "</div>"
            ],
            "text/plain": [
              "                                        title  ...                           industries\n",
              "0                   Machine Learning Engineer  ...  Information Technology and Services\n",
              "1  Deep Learning Applied Researcher - Chicago  ...  Information Technology and Services\n",
              "2                   Machine Learning Engineer  ...  Information Technology and Services\n",
              "3           Machine Learning / Data Scientist  ...  Information Technology and Services\n",
              "4                             Cloud Architect  ...  Information Technology and Services\n",
              "\n",
              "[5 rows x 8 columns]"
            ]
          },
          "metadata": {
            "tags": []
          },
          "execution_count": 13
        }
      ]
    },
    {
      "cell_type": "code",
      "metadata": {
        "id": "Rjz_B1IIx2g2",
        "colab_type": "code",
        "colab": {}
      },
      "source": [
        "title_corpus = df['title'].map(simple_preprocess)\n",
        "tittle_tagged = [TaggedDocument(words=sent, tags=[i]) for i,sent in enumerate(title_corpus)]\n"
      ],
      "execution_count": 0,
      "outputs": []
    },
    {
      "cell_type": "code",
      "metadata": {
        "id": "wpS2Cjr6yTIz",
        "colab_type": "code",
        "colab": {}
      },
      "source": [
        "title_model = Doc2Vec(vector_size=300,window_size=5, min_count=1)\n",
        "title_model.build_vocab(tittle_tagged)"
      ],
      "execution_count": 0,
      "outputs": []
    },
    {
      "cell_type": "code",
      "metadata": {
        "id": "yaHsLlQazart",
        "colab_type": "code",
        "colab": {}
      },
      "source": [
        "title_model.train(tittle_tagged,total_examples=title_model.corpus_count,epochs=10)"
      ],
      "execution_count": 0,
      "outputs": []
    },
    {
      "cell_type": "code",
      "metadata": {
        "id": "KI1iF6LJzts6",
        "colab_type": "code",
        "outputId": "7e0e8c77-41a4-4d27-cb1a-65ece8295adc",
        "colab": {
          "base_uri": "https://localhost:8080/",
          "height": 245
        }
      },
      "source": [
        "title_model.docvecs.most_similar(0)"
      ],
      "execution_count": 0,
      "outputs": [
        {
          "output_type": "stream",
          "text": [
            "/usr/local/lib/python3.6/dist-packages/gensim/matutils.py:737: FutureWarning: Conversion of the second argument of issubdtype from `int` to `np.signedinteger` is deprecated. In future, it will be treated as `np.int64 == np.dtype(int).type`.\n",
            "  if np.issubdtype(vec.dtype, np.int):\n"
          ],
          "name": "stderr"
        },
        {
          "output_type": "execute_result",
          "data": {
            "text/plain": [
              "[(3847, 0.8652997016906738),\n",
              " (341, 0.8596103191375732),\n",
              " (751, 0.8528269529342651),\n",
              " (5569, 0.8523737192153931),\n",
              " (5529, 0.8508408069610596),\n",
              " (1210, 0.8472046256065369),\n",
              " (25448, 0.8414750099182129),\n",
              " (9607, 0.8408520221710205),\n",
              " (1728, 0.840725302696228),\n",
              " (33255, 0.8399732112884521)]"
            ]
          },
          "metadata": {
            "tags": []
          },
          "execution_count": 23
        }
      ]
    },
    {
      "cell_type": "code",
      "metadata": {
        "id": "8M2IltWmzzwU",
        "colab_type": "code",
        "outputId": "356dd81b-35a6-4ba2-c472-57e77bb43f90",
        "colab": {
          "base_uri": "https://localhost:8080/",
          "height": 34
        }
      },
      "source": [
        "df[df.index == 0].title.values"
      ],
      "execution_count": 0,
      "outputs": [
        {
          "output_type": "execute_result",
          "data": {
            "text/plain": [
              "array(['Machine Learning Engineer'], dtype=object)"
            ]
          },
          "metadata": {
            "tags": []
          },
          "execution_count": 24
        }
      ]
    },
    {
      "cell_type": "code",
      "metadata": {
        "id": "YPIDlA9n2pap",
        "colab_type": "code",
        "outputId": "e6563497-eebd-40e5-9337-6f9f78ff613e",
        "colab": {
          "base_uri": "https://localhost:8080/",
          "height": 34
        }
      },
      "source": [
        "df[df.index == 3847].title.values"
      ],
      "execution_count": 0,
      "outputs": [
        {
          "output_type": "execute_result",
          "data": {
            "text/plain": [
              "array(['Mission Capability Systems Engineer'], dtype=object)"
            ]
          },
          "metadata": {
            "tags": []
          },
          "execution_count": 25
        }
      ]
    },
    {
      "cell_type": "code",
      "metadata": {
        "id": "FznrNYqH2uN0",
        "colab_type": "code",
        "outputId": "4a2ff91f-46ea-47f9-84a4-744721005eac",
        "colab": {
          "base_uri": "https://localhost:8080/",
          "height": 34
        }
      },
      "source": [
        "df[df.index == 341].title.values"
      ],
      "execution_count": 0,
      "outputs": [
        {
          "output_type": "execute_result",
          "data": {
            "text/plain": [
              "array(['Machine Learning Engineer'], dtype=object)"
            ]
          },
          "metadata": {
            "tags": []
          },
          "execution_count": 26
        }
      ]
    },
    {
      "cell_type": "code",
      "metadata": {
        "id": "tZKl5Ex82xca",
        "colab_type": "code",
        "outputId": "3e2a33da-dc4e-4958-a4ea-dce85f3940d1",
        "colab": {
          "base_uri": "https://localhost:8080/",
          "height": 34
        }
      },
      "source": [
        "df[df.index == 751].title.values"
      ],
      "execution_count": 0,
      "outputs": [
        {
          "output_type": "execute_result",
          "data": {
            "text/plain": [
              "array(['M3 Business Consultant'], dtype=object)"
            ]
          },
          "metadata": {
            "tags": []
          },
          "execution_count": 27
        }
      ]
    }
  ]
}