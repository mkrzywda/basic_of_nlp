{
  "nbformat": 4,
  "nbformat_minor": 0,
  "metadata": {
    "colab": {
      "name": "NLPDay03.ipynb",
      "provenance": [],
      "collapsed_sections": []
    },
    "kernelspec": {
      "name": "python3",
      "display_name": "Python 3"
    }
  },
  "cells": [
    {
      "cell_type": "code",
      "metadata": {
        "id": "edNZwbWjJGvS",
        "colab_type": "code",
        "colab": {}
      },
      "source": [
        "#Day First #5DWChallenge "
      ],
      "execution_count": 0,
      "outputs": []
    },
    {
      "cell_type": "code",
      "metadata": {
        "id": "1_LN3kGyJSlk",
        "colab_type": "code",
        "outputId": "21ddf461-8cfd-4ac6-97e6-4a1b1cff248f",
        "colab": {
          "base_uri": "https://localhost:8080/",
          "height": 332
        }
      },
      "source": [
        "pip install gensim"
      ],
      "execution_count": 0,
      "outputs": [
        {
          "output_type": "stream",
          "text": [
            "Requirement already satisfied: gensim in /usr/local/lib/python3.6/dist-packages (3.6.0)\n",
            "Requirement already satisfied: smart-open>=1.2.1 in /usr/local/lib/python3.6/dist-packages (from gensim) (1.8.4)\n",
            "Requirement already satisfied: six>=1.5.0 in /usr/local/lib/python3.6/dist-packages (from gensim) (1.12.0)\n",
            "Requirement already satisfied: numpy>=1.11.3 in /usr/local/lib/python3.6/dist-packages (from gensim) (1.16.4)\n",
            "Requirement already satisfied: scipy>=0.18.1 in /usr/local/lib/python3.6/dist-packages (from gensim) (1.3.1)\n",
            "Requirement already satisfied: boto3 in /usr/local/lib/python3.6/dist-packages (from smart-open>=1.2.1->gensim) (1.9.216)\n",
            "Requirement already satisfied: boto>=2.32 in /usr/local/lib/python3.6/dist-packages (from smart-open>=1.2.1->gensim) (2.49.0)\n",
            "Requirement already satisfied: requests in /usr/local/lib/python3.6/dist-packages (from smart-open>=1.2.1->gensim) (2.21.0)\n",
            "Requirement already satisfied: jmespath<1.0.0,>=0.7.1 in /usr/local/lib/python3.6/dist-packages (from boto3->smart-open>=1.2.1->gensim) (0.9.4)\n",
            "Requirement already satisfied: s3transfer<0.3.0,>=0.2.0 in /usr/local/lib/python3.6/dist-packages (from boto3->smart-open>=1.2.1->gensim) (0.2.1)\n",
            "Requirement already satisfied: botocore<1.13.0,>=1.12.216 in /usr/local/lib/python3.6/dist-packages (from boto3->smart-open>=1.2.1->gensim) (1.12.216)\n",
            "Requirement already satisfied: urllib3<1.25,>=1.21.1 in /usr/local/lib/python3.6/dist-packages (from requests->smart-open>=1.2.1->gensim) (1.24.3)\n",
            "Requirement already satisfied: idna<2.9,>=2.5 in /usr/local/lib/python3.6/dist-packages (from requests->smart-open>=1.2.1->gensim) (2.8)\n",
            "Requirement already satisfied: chardet<3.1.0,>=3.0.2 in /usr/local/lib/python3.6/dist-packages (from requests->smart-open>=1.2.1->gensim) (3.0.4)\n",
            "Requirement already satisfied: certifi>=2017.4.17 in /usr/local/lib/python3.6/dist-packages (from requests->smart-open>=1.2.1->gensim) (2019.6.16)\n",
            "Requirement already satisfied: docutils<0.16,>=0.10 in /usr/local/lib/python3.6/dist-packages (from botocore<1.13.0,>=1.12.216->boto3->smart-open>=1.2.1->gensim) (0.15.2)\n",
            "Requirement already satisfied: python-dateutil<3.0.0,>=2.1; python_version >= \"2.7\" in /usr/local/lib/python3.6/dist-packages (from botocore<1.13.0,>=1.12.216->boto3->smart-open>=1.2.1->gensim) (2.5.3)\n"
          ],
          "name": "stdout"
        }
      ]
    },
    {
      "cell_type": "code",
      "metadata": {
        "id": "YVN1jDQeJip3",
        "colab_type": "code",
        "outputId": "1d1c0796-2a7f-4fc7-828a-3e48ac4908da",
        "colab": {
          "base_uri": "https://localhost:8080/",
          "height": 575
        }
      },
      "source": [
        "pip install pyLDAvis"
      ],
      "execution_count": 0,
      "outputs": [
        {
          "output_type": "stream",
          "text": [
            "Collecting pyLDAvis\n",
            "\u001b[?25l  Downloading https://files.pythonhosted.org/packages/a5/3a/af82e070a8a96e13217c8f362f9a73e82d61ac8fff3a2561946a97f96266/pyLDAvis-2.1.2.tar.gz (1.6MB)\n",
            "\r\u001b[K     |▏                               | 10kB 14.7MB/s eta 0:00:01\r\u001b[K     |▍                               | 20kB 3.4MB/s eta 0:00:01\r\u001b[K     |▋                               | 30kB 4.9MB/s eta 0:00:01\r\u001b[K     |▉                               | 40kB 3.2MB/s eta 0:00:01\r\u001b[K     |█                               | 51kB 3.9MB/s eta 0:00:01\r\u001b[K     |█▏                              | 61kB 4.6MB/s eta 0:00:01\r\u001b[K     |█▍                              | 71kB 5.3MB/s eta 0:00:01\r\u001b[K     |█▋                              | 81kB 5.9MB/s eta 0:00:01\r\u001b[K     |█▉                              | 92kB 6.6MB/s eta 0:00:01\r\u001b[K     |██                              | 102kB 5.2MB/s eta 0:00:01\r\u001b[K     |██▎                             | 112kB 5.2MB/s eta 0:00:01\r\u001b[K     |██▍                             | 122kB 5.2MB/s eta 0:00:01\r\u001b[K     |██▋                             | 133kB 5.2MB/s eta 0:00:01\r\u001b[K     |██▉                             | 143kB 5.2MB/s eta 0:00:01\r\u001b[K     |███                             | 153kB 5.2MB/s eta 0:00:01\r\u001b[K     |███▎                            | 163kB 5.2MB/s eta 0:00:01\r\u001b[K     |███▌                            | 174kB 5.2MB/s eta 0:00:01\r\u001b[K     |███▋                            | 184kB 5.2MB/s eta 0:00:01\r\u001b[K     |███▉                            | 194kB 5.2MB/s eta 0:00:01\r\u001b[K     |████                            | 204kB 5.2MB/s eta 0:00:01\r\u001b[K     |████▎                           | 215kB 5.2MB/s eta 0:00:01\r\u001b[K     |████▌                           | 225kB 5.2MB/s eta 0:00:01\r\u001b[K     |████▊                           | 235kB 5.2MB/s eta 0:00:01\r\u001b[K     |████▉                           | 245kB 5.2MB/s eta 0:00:01\r\u001b[K     |█████                           | 256kB 5.2MB/s eta 0:00:01\r\u001b[K     |█████▎                          | 266kB 5.2MB/s eta 0:00:01\r\u001b[K     |█████▌                          | 276kB 5.2MB/s eta 0:00:01\r\u001b[K     |█████▊                          | 286kB 5.2MB/s eta 0:00:01\r\u001b[K     |█████▉                          | 296kB 5.2MB/s eta 0:00:01\r\u001b[K     |██████                          | 307kB 5.2MB/s eta 0:00:01\r\u001b[K     |██████▎                         | 317kB 5.2MB/s eta 0:00:01\r\u001b[K     |██████▌                         | 327kB 5.2MB/s eta 0:00:01\r\u001b[K     |██████▊                         | 337kB 5.2MB/s eta 0:00:01\r\u001b[K     |███████                         | 348kB 5.2MB/s eta 0:00:01\r\u001b[K     |███████                         | 358kB 5.2MB/s eta 0:00:01\r\u001b[K     |███████▎                        | 368kB 5.2MB/s eta 0:00:01\r\u001b[K     |███████▌                        | 378kB 5.2MB/s eta 0:00:01\r\u001b[K     |███████▊                        | 389kB 5.2MB/s eta 0:00:01\r\u001b[K     |████████                        | 399kB 5.2MB/s eta 0:00:01\r\u001b[K     |████████▏                       | 409kB 5.2MB/s eta 0:00:01\r\u001b[K     |████████▎                       | 419kB 5.2MB/s eta 0:00:01\r\u001b[K     |████████▌                       | 430kB 5.2MB/s eta 0:00:01\r\u001b[K     |████████▊                       | 440kB 5.2MB/s eta 0:00:01\r\u001b[K     |█████████                       | 450kB 5.2MB/s eta 0:00:01\r\u001b[K     |█████████▏                      | 460kB 5.2MB/s eta 0:00:01\r\u001b[K     |█████████▍                      | 471kB 5.2MB/s eta 0:00:01\r\u001b[K     |█████████▌                      | 481kB 5.2MB/s eta 0:00:01\r\u001b[K     |█████████▊                      | 491kB 5.2MB/s eta 0:00:01\r\u001b[K     |██████████                      | 501kB 5.2MB/s eta 0:00:01\r\u001b[K     |██████████▏                     | 512kB 5.2MB/s eta 0:00:01\r\u001b[K     |██████████▍                     | 522kB 5.2MB/s eta 0:00:01\r\u001b[K     |██████████▋                     | 532kB 5.2MB/s eta 0:00:01\r\u001b[K     |██████████▊                     | 542kB 5.2MB/s eta 0:00:01\r\u001b[K     |███████████                     | 552kB 5.2MB/s eta 0:00:01\r\u001b[K     |███████████▏                    | 563kB 5.2MB/s eta 0:00:01\r\u001b[K     |███████████▍                    | 573kB 5.2MB/s eta 0:00:01\r\u001b[K     |███████████▋                    | 583kB 5.2MB/s eta 0:00:01\r\u001b[K     |███████████▊                    | 593kB 5.2MB/s eta 0:00:01\r\u001b[K     |████████████                    | 604kB 5.2MB/s eta 0:00:01\r\u001b[K     |████████████▏                   | 614kB 5.2MB/s eta 0:00:01\r\u001b[K     |████████████▍                   | 624kB 5.2MB/s eta 0:00:01\r\u001b[K     |████████████▋                   | 634kB 5.2MB/s eta 0:00:01\r\u001b[K     |████████████▉                   | 645kB 5.2MB/s eta 0:00:01\r\u001b[K     |█████████████                   | 655kB 5.2MB/s eta 0:00:01\r\u001b[K     |█████████████▏                  | 665kB 5.2MB/s eta 0:00:01\r\u001b[K     |█████████████▍                  | 675kB 5.2MB/s eta 0:00:01\r\u001b[K     |█████████████▋                  | 686kB 5.2MB/s eta 0:00:01\r\u001b[K     |█████████████▉                  | 696kB 5.2MB/s eta 0:00:01\r\u001b[K     |██████████████                  | 706kB 5.2MB/s eta 0:00:01\r\u001b[K     |██████████████▏                 | 716kB 5.2MB/s eta 0:00:01\r\u001b[K     |██████████████▍                 | 727kB 5.2MB/s eta 0:00:01\r\u001b[K     |██████████████▋                 | 737kB 5.2MB/s eta 0:00:01\r\u001b[K     |██████████████▉                 | 747kB 5.2MB/s eta 0:00:01\r\u001b[K     |███████████████                 | 757kB 5.2MB/s eta 0:00:01\r\u001b[K     |███████████████▎                | 768kB 5.2MB/s eta 0:00:01\r\u001b[K     |███████████████▍                | 778kB 5.2MB/s eta 0:00:01\r\u001b[K     |███████████████▋                | 788kB 5.2MB/s eta 0:00:01\r\u001b[K     |███████████████▉                | 798kB 5.2MB/s eta 0:00:01\r\u001b[K     |████████████████                | 808kB 5.2MB/s eta 0:00:01\r\u001b[K     |████████████████▎               | 819kB 5.2MB/s eta 0:00:01\r\u001b[K     |████████████████▌               | 829kB 5.2MB/s eta 0:00:01\r\u001b[K     |████████████████▋               | 839kB 5.2MB/s eta 0:00:01\r\u001b[K     |████████████████▉               | 849kB 5.2MB/s eta 0:00:01\r\u001b[K     |█████████████████               | 860kB 5.2MB/s eta 0:00:01\r\u001b[K     |█████████████████▎              | 870kB 5.2MB/s eta 0:00:01\r\u001b[K     |█████████████████▌              | 880kB 5.2MB/s eta 0:00:01\r\u001b[K     |█████████████████▋              | 890kB 5.2MB/s eta 0:00:01\r\u001b[K     |█████████████████▉              | 901kB 5.2MB/s eta 0:00:01\r\u001b[K     |██████████████████              | 911kB 5.2MB/s eta 0:00:01\r\u001b[K     |██████████████████▎             | 921kB 5.2MB/s eta 0:00:01\r\u001b[K     |██████████████████▌             | 931kB 5.2MB/s eta 0:00:01\r\u001b[K     |██████████████████▊             | 942kB 5.2MB/s eta 0:00:01\r\u001b[K     |██████████████████▉             | 952kB 5.2MB/s eta 0:00:01\r\u001b[K     |███████████████████             | 962kB 5.2MB/s eta 0:00:01\r\u001b[K     |███████████████████▎            | 972kB 5.2MB/s eta 0:00:01\r\u001b[K     |███████████████████▌            | 983kB 5.2MB/s eta 0:00:01\r\u001b[K     |███████████████████▊            | 993kB 5.2MB/s eta 0:00:01\r\u001b[K     |████████████████████            | 1.0MB 5.2MB/s eta 0:00:01\r\u001b[K     |████████████████████            | 1.0MB 5.2MB/s eta 0:00:01\r\u001b[K     |████████████████████▎           | 1.0MB 5.2MB/s eta 0:00:01\r\u001b[K     |████████████████████▌           | 1.0MB 5.2MB/s eta 0:00:01\r\u001b[K     |████████████████████▊           | 1.0MB 5.2MB/s eta 0:00:01\r\u001b[K     |█████████████████████           | 1.1MB 5.2MB/s eta 0:00:01\r\u001b[K     |█████████████████████▏          | 1.1MB 5.2MB/s eta 0:00:01\r\u001b[K     |█████████████████████▎          | 1.1MB 5.2MB/s eta 0:00:01\r\u001b[K     |█████████████████████▌          | 1.1MB 5.2MB/s eta 0:00:01\r\u001b[K     |█████████████████████▊          | 1.1MB 5.2MB/s eta 0:00:01\r\u001b[K     |██████████████████████          | 1.1MB 5.2MB/s eta 0:00:01\r\u001b[K     |██████████████████████▏         | 1.1MB 5.2MB/s eta 0:00:01\r\u001b[K     |██████████████████████▍         | 1.1MB 5.2MB/s eta 0:00:01\r\u001b[K     |██████████████████████▌         | 1.1MB 5.2MB/s eta 0:00:01\r\u001b[K     |██████████████████████▊         | 1.1MB 5.2MB/s eta 0:00:01\r\u001b[K     |███████████████████████         | 1.2MB 5.2MB/s eta 0:00:01\r\u001b[K     |███████████████████████▏        | 1.2MB 5.2MB/s eta 0:00:01\r\u001b[K     |███████████████████████▍        | 1.2MB 5.2MB/s eta 0:00:01\r\u001b[K     |███████████████████████▌        | 1.2MB 5.2MB/s eta 0:00:01\r\u001b[K     |███████████████████████▊        | 1.2MB 5.2MB/s eta 0:00:01\r\u001b[K     |████████████████████████        | 1.2MB 5.2MB/s eta 0:00:01\r\u001b[K     |████████████████████████▏       | 1.2MB 5.2MB/s eta 0:00:01\r\u001b[K     |████████████████████████▍       | 1.2MB 5.2MB/s eta 0:00:01\r\u001b[K     |████████████████████████▋       | 1.2MB 5.2MB/s eta 0:00:01\r\u001b[K     |████████████████████████▊       | 1.2MB 5.2MB/s eta 0:00:01\r\u001b[K     |█████████████████████████       | 1.3MB 5.2MB/s eta 0:00:01\r\u001b[K     |█████████████████████████▏      | 1.3MB 5.2MB/s eta 0:00:01\r\u001b[K     |█████████████████████████▍      | 1.3MB 5.2MB/s eta 0:00:01\r\u001b[K     |█████████████████████████▋      | 1.3MB 5.2MB/s eta 0:00:01\r\u001b[K     |█████████████████████████▉      | 1.3MB 5.2MB/s eta 0:00:01\r\u001b[K     |██████████████████████████      | 1.3MB 5.2MB/s eta 0:00:01\r\u001b[K     |██████████████████████████▏     | 1.3MB 5.2MB/s eta 0:00:01\r\u001b[K     |██████████████████████████▍     | 1.3MB 5.2MB/s eta 0:00:01\r\u001b[K     |██████████████████████████▋     | 1.3MB 5.2MB/s eta 0:00:01\r\u001b[K     |██████████████████████████▉     | 1.4MB 5.2MB/s eta 0:00:01\r\u001b[K     |███████████████████████████     | 1.4MB 5.2MB/s eta 0:00:01\r\u001b[K     |███████████████████████████▏    | 1.4MB 5.2MB/s eta 0:00:01\r\u001b[K     |███████████████████████████▍    | 1.4MB 5.2MB/s eta 0:00:01\r\u001b[K     |███████████████████████████▋    | 1.4MB 5.2MB/s eta 0:00:01\r\u001b[K     |███████████████████████████▉    | 1.4MB 5.2MB/s eta 0:00:01\r\u001b[K     |████████████████████████████    | 1.4MB 5.2MB/s eta 0:00:01\r\u001b[K     |████████████████████████████▏   | 1.4MB 5.2MB/s eta 0:00:01\r\u001b[K     |████████████████████████████▍   | 1.4MB 5.2MB/s eta 0:00:01\r\u001b[K     |████████████████████████████▋   | 1.4MB 5.2MB/s eta 0:00:01\r\u001b[K     |████████████████████████████▉   | 1.5MB 5.2MB/s eta 0:00:01\r\u001b[K     |█████████████████████████████   | 1.5MB 5.2MB/s eta 0:00:01\r\u001b[K     |█████████████████████████████▎  | 1.5MB 5.2MB/s eta 0:00:01\r\u001b[K     |█████████████████████████████▍  | 1.5MB 5.2MB/s eta 0:00:01\r\u001b[K     |█████████████████████████████▋  | 1.5MB 5.2MB/s eta 0:00:01\r\u001b[K     |█████████████████████████████▉  | 1.5MB 5.2MB/s eta 0:00:01\r\u001b[K     |██████████████████████████████  | 1.5MB 5.2MB/s eta 0:00:01\r\u001b[K     |██████████████████████████████▎ | 1.5MB 5.2MB/s eta 0:00:01\r\u001b[K     |██████████████████████████████▌ | 1.5MB 5.2MB/s eta 0:00:01\r\u001b[K     |██████████████████████████████▋ | 1.5MB 5.2MB/s eta 0:00:01\r\u001b[K     |██████████████████████████████▉ | 1.6MB 5.2MB/s eta 0:00:01\r\u001b[K     |███████████████████████████████ | 1.6MB 5.2MB/s eta 0:00:01\r\u001b[K     |███████████████████████████████▎| 1.6MB 5.2MB/s eta 0:00:01\r\u001b[K     |███████████████████████████████▌| 1.6MB 5.2MB/s eta 0:00:01\r\u001b[K     |███████████████████████████████▊| 1.6MB 5.2MB/s eta 0:00:01\r\u001b[K     |███████████████████████████████▉| 1.6MB 5.2MB/s eta 0:00:01\r\u001b[K     |████████████████████████████████| 1.6MB 5.2MB/s \n",
            "\u001b[?25hRequirement already satisfied: wheel>=0.23.0 in /usr/local/lib/python3.6/dist-packages (from pyLDAvis) (0.33.6)\n",
            "Requirement already satisfied: numpy>=1.9.2 in /usr/local/lib/python3.6/dist-packages (from pyLDAvis) (1.16.4)\n",
            "Requirement already satisfied: scipy>=0.18.0 in /usr/local/lib/python3.6/dist-packages (from pyLDAvis) (1.3.1)\n",
            "Requirement already satisfied: pandas>=0.17.0 in /usr/local/lib/python3.6/dist-packages (from pyLDAvis) (0.24.2)\n",
            "Requirement already satisfied: joblib>=0.8.4 in /usr/local/lib/python3.6/dist-packages (from pyLDAvis) (0.13.2)\n",
            "Requirement already satisfied: jinja2>=2.7.2 in /usr/local/lib/python3.6/dist-packages (from pyLDAvis) (2.10.1)\n",
            "Requirement already satisfied: numexpr in /usr/local/lib/python3.6/dist-packages (from pyLDAvis) (2.7.0)\n",
            "Requirement already satisfied: pytest in /usr/local/lib/python3.6/dist-packages (from pyLDAvis) (3.6.4)\n",
            "Requirement already satisfied: future in /usr/local/lib/python3.6/dist-packages (from pyLDAvis) (0.16.0)\n",
            "Collecting funcy (from pyLDAvis)\n",
            "  Downloading https://files.pythonhosted.org/packages/eb/3a/fc8323f913e8a9c6f33f7203547f8a2171223da5ed965f2541dafb10aa09/funcy-1.13-py2.py3-none-any.whl\n",
            "Requirement already satisfied: pytz>=2011k in /usr/local/lib/python3.6/dist-packages (from pandas>=0.17.0->pyLDAvis) (2018.9)\n",
            "Requirement already satisfied: python-dateutil>=2.5.0 in /usr/local/lib/python3.6/dist-packages (from pandas>=0.17.0->pyLDAvis) (2.5.3)\n",
            "Requirement already satisfied: MarkupSafe>=0.23 in /usr/local/lib/python3.6/dist-packages (from jinja2>=2.7.2->pyLDAvis) (1.1.1)\n",
            "Requirement already satisfied: six>=1.10.0 in /usr/local/lib/python3.6/dist-packages (from pytest->pyLDAvis) (1.12.0)\n",
            "Requirement already satisfied: atomicwrites>=1.0 in /usr/local/lib/python3.6/dist-packages (from pytest->pyLDAvis) (1.3.0)\n",
            "Requirement already satisfied: py>=1.5.0 in /usr/local/lib/python3.6/dist-packages (from pytest->pyLDAvis) (1.8.0)\n",
            "Requirement already satisfied: more-itertools>=4.0.0 in /usr/local/lib/python3.6/dist-packages (from pytest->pyLDAvis) (7.2.0)\n",
            "Requirement already satisfied: pluggy<0.8,>=0.5 in /usr/local/lib/python3.6/dist-packages (from pytest->pyLDAvis) (0.7.1)\n",
            "Requirement already satisfied: attrs>=17.4.0 in /usr/local/lib/python3.6/dist-packages (from pytest->pyLDAvis) (19.1.0)\n",
            "Requirement already satisfied: setuptools in /usr/local/lib/python3.6/dist-packages (from pytest->pyLDAvis) (41.2.0)\n",
            "Building wheels for collected packages: pyLDAvis\n",
            "  Building wheel for pyLDAvis (setup.py) ... \u001b[?25l\u001b[?25hdone\n",
            "  Created wheel for pyLDAvis: filename=pyLDAvis-2.1.2-py2.py3-none-any.whl size=97711 sha256=60be620d1cf7ea96f41648ea2daca47e2d3ee802c3d38a36b9293633b1d8aec7\n",
            "  Stored in directory: /root/.cache/pip/wheels/98/71/24/513a99e58bb6b8465bae4d2d5e9dba8f0bef8179e3051ac414\n",
            "Successfully built pyLDAvis\n",
            "Installing collected packages: funcy, pyLDAvis\n",
            "Successfully installed funcy-1.13 pyLDAvis-2.1.2\n"
          ],
          "name": "stdout"
        }
      ]
    },
    {
      "cell_type": "code",
      "metadata": {
        "id": "alIKz-0gJlpv",
        "colab_type": "code",
        "outputId": "bd20e6e7-c1a8-49f6-c31e-7fcb9d4f3eb8",
        "colab": {
          "base_uri": "https://localhost:8080/",
          "height": 280
        }
      },
      "source": [
        "pip install smart_open --upgrade"
      ],
      "execution_count": 0,
      "outputs": [
        {
          "output_type": "stream",
          "text": [
            "Requirement already up-to-date: smart_open in /usr/local/lib/python3.6/dist-packages (1.8.4)\n",
            "Requirement already satisfied, skipping upgrade: boto3 in /usr/local/lib/python3.6/dist-packages (from smart_open) (1.9.216)\n",
            "Requirement already satisfied, skipping upgrade: requests in /usr/local/lib/python3.6/dist-packages (from smart_open) (2.21.0)\n",
            "Requirement already satisfied, skipping upgrade: boto>=2.32 in /usr/local/lib/python3.6/dist-packages (from smart_open) (2.49.0)\n",
            "Requirement already satisfied, skipping upgrade: botocore<1.13.0,>=1.12.216 in /usr/local/lib/python3.6/dist-packages (from boto3->smart_open) (1.12.216)\n",
            "Requirement already satisfied, skipping upgrade: s3transfer<0.3.0,>=0.2.0 in /usr/local/lib/python3.6/dist-packages (from boto3->smart_open) (0.2.1)\n",
            "Requirement already satisfied, skipping upgrade: jmespath<1.0.0,>=0.7.1 in /usr/local/lib/python3.6/dist-packages (from boto3->smart_open) (0.9.4)\n",
            "Requirement already satisfied, skipping upgrade: urllib3<1.25,>=1.21.1 in /usr/local/lib/python3.6/dist-packages (from requests->smart_open) (1.24.3)\n",
            "Requirement already satisfied, skipping upgrade: chardet<3.1.0,>=3.0.2 in /usr/local/lib/python3.6/dist-packages (from requests->smart_open) (3.0.4)\n",
            "Requirement already satisfied, skipping upgrade: idna<2.9,>=2.5 in /usr/local/lib/python3.6/dist-packages (from requests->smart_open) (2.8)\n",
            "Requirement already satisfied, skipping upgrade: certifi>=2017.4.17 in /usr/local/lib/python3.6/dist-packages (from requests->smart_open) (2019.6.16)\n",
            "Requirement already satisfied, skipping upgrade: python-dateutil<3.0.0,>=2.1; python_version >= \"2.7\" in /usr/local/lib/python3.6/dist-packages (from botocore<1.13.0,>=1.12.216->boto3->smart_open) (2.5.3)\n",
            "Requirement already satisfied, skipping upgrade: docutils<0.16,>=0.10 in /usr/local/lib/python3.6/dist-packages (from botocore<1.13.0,>=1.12.216->boto3->smart_open) (0.15.2)\n",
            "Requirement already satisfied, skipping upgrade: six>=1.5 in /usr/local/lib/python3.6/dist-packages (from python-dateutil<3.0.0,>=2.1; python_version >= \"2.7\"->botocore<1.13.0,>=1.12.216->boto3->smart_open) (1.12.0)\n"
          ],
          "name": "stdout"
        }
      ]
    },
    {
      "cell_type": "code",
      "metadata": {
        "id": "NeFn9w7vJ1-k",
        "colab_type": "code",
        "colab": {}
      },
      "source": [
        "import gensim"
      ],
      "execution_count": 0,
      "outputs": []
    },
    {
      "cell_type": "code",
      "metadata": {
        "id": "2mMDDzuSJ3xH",
        "colab_type": "code",
        "colab": {}
      },
      "source": [
        "import pyLDAvis"
      ],
      "execution_count": 0,
      "outputs": []
    },
    {
      "cell_type": "code",
      "metadata": {
        "id": "fhQ5mMPMJ_JZ",
        "colab_type": "code",
        "outputId": "fc732ca5-bb52-40d9-aaa6-cb371dc9fdb7",
        "colab": {
          "base_uri": "https://localhost:8080/",
          "height": 34
        }
      },
      "source": [
        "pyLDAvis.__version__"
      ],
      "execution_count": 0,
      "outputs": [
        {
          "output_type": "execute_result",
          "data": {
            "text/plain": [
              "'2.1.2'"
            ]
          },
          "metadata": {
            "tags": []
          },
          "execution_count": 7
        }
      ]
    },
    {
      "cell_type": "code",
      "metadata": {
        "id": "P7hSYr03LKaq",
        "colab_type": "code",
        "outputId": "b4e1e94b-e7e2-460b-aa30-bf61a5d1e65e",
        "colab": {
          "base_uri": "https://localhost:8080/",
          "height": 542
        }
      },
      "source": [
        "pip install gensim --upgrade"
      ],
      "execution_count": 0,
      "outputs": [
        {
          "output_type": "stream",
          "text": [
            "Collecting gensim\n",
            "\u001b[?25l  Downloading https://files.pythonhosted.org/packages/40/3d/89b27573f56abcd1b8c9598b240f53c45a3c79aa0924a24588e99716043b/gensim-3.8.0-cp36-cp36m-manylinux1_x86_64.whl (24.2MB)\n",
            "\u001b[K     |████████████████████████████████| 24.2MB 1.2MB/s \n",
            "\u001b[?25hRequirement already satisfied, skipping upgrade: smart-open>=1.7.0 in /usr/local/lib/python3.6/dist-packages (from gensim) (1.8.4)\n",
            "Requirement already satisfied, skipping upgrade: scipy>=0.18.1 in /usr/local/lib/python3.6/dist-packages (from gensim) (1.3.1)\n",
            "Requirement already satisfied, skipping upgrade: numpy>=1.11.3 in /usr/local/lib/python3.6/dist-packages (from gensim) (1.16.4)\n",
            "Requirement already satisfied, skipping upgrade: six>=1.5.0 in /usr/local/lib/python3.6/dist-packages (from gensim) (1.12.0)\n",
            "Requirement already satisfied, skipping upgrade: boto>=2.32 in /usr/local/lib/python3.6/dist-packages (from smart-open>=1.7.0->gensim) (2.49.0)\n",
            "Requirement already satisfied, skipping upgrade: boto3 in /usr/local/lib/python3.6/dist-packages (from smart-open>=1.7.0->gensim) (1.9.216)\n",
            "Requirement already satisfied, skipping upgrade: requests in /usr/local/lib/python3.6/dist-packages (from smart-open>=1.7.0->gensim) (2.21.0)\n",
            "Requirement already satisfied, skipping upgrade: jmespath<1.0.0,>=0.7.1 in /usr/local/lib/python3.6/dist-packages (from boto3->smart-open>=1.7.0->gensim) (0.9.4)\n",
            "Requirement already satisfied, skipping upgrade: s3transfer<0.3.0,>=0.2.0 in /usr/local/lib/python3.6/dist-packages (from boto3->smart-open>=1.7.0->gensim) (0.2.1)\n",
            "Requirement already satisfied, skipping upgrade: botocore<1.13.0,>=1.12.216 in /usr/local/lib/python3.6/dist-packages (from boto3->smart-open>=1.7.0->gensim) (1.12.216)\n",
            "Requirement already satisfied, skipping upgrade: chardet<3.1.0,>=3.0.2 in /usr/local/lib/python3.6/dist-packages (from requests->smart-open>=1.7.0->gensim) (3.0.4)\n",
            "Requirement already satisfied, skipping upgrade: certifi>=2017.4.17 in /usr/local/lib/python3.6/dist-packages (from requests->smart-open>=1.7.0->gensim) (2019.6.16)\n",
            "Requirement already satisfied, skipping upgrade: urllib3<1.25,>=1.21.1 in /usr/local/lib/python3.6/dist-packages (from requests->smart-open>=1.7.0->gensim) (1.24.3)\n",
            "Requirement already satisfied, skipping upgrade: idna<2.9,>=2.5 in /usr/local/lib/python3.6/dist-packages (from requests->smart-open>=1.7.0->gensim) (2.8)\n",
            "Requirement already satisfied, skipping upgrade: python-dateutil<3.0.0,>=2.1; python_version >= \"2.7\" in /usr/local/lib/python3.6/dist-packages (from botocore<1.13.0,>=1.12.216->boto3->smart-open>=1.7.0->gensim) (2.5.3)\n",
            "Requirement already satisfied, skipping upgrade: docutils<0.16,>=0.10 in /usr/local/lib/python3.6/dist-packages (from botocore<1.13.0,>=1.12.216->boto3->smart-open>=1.7.0->gensim) (0.15.2)\n",
            "Installing collected packages: gensim\n",
            "  Found existing installation: gensim 3.6.0\n",
            "    Uninstalling gensim-3.6.0:\n",
            "      Successfully uninstalled gensim-3.6.0\n",
            "Successfully installed gensim-3.8.0\n"
          ],
          "name": "stdout"
        },
        {
          "output_type": "display_data",
          "data": {
            "application/vnd.colab-display-data+json": {
              "pip_warning": {
                "packages": [
                  "gensim"
                ]
              }
            }
          },
          "metadata": {
            "tags": []
          }
        }
      ]
    },
    {
      "cell_type": "code",
      "metadata": {
        "id": "CvScFmaeKHj9",
        "colab_type": "code",
        "outputId": "1535a9ee-bf8b-43ff-9f50-92ab7ed03c62",
        "colab": {
          "base_uri": "https://localhost:8080/",
          "height": 34
        }
      },
      "source": [
        "gensim.__version__"
      ],
      "execution_count": 0,
      "outputs": [
        {
          "output_type": "execute_result",
          "data": {
            "text/plain": [
              "'3.6.0'"
            ]
          },
          "metadata": {
            "tags": []
          },
          "execution_count": 9
        }
      ]
    },
    {
      "cell_type": "code",
      "metadata": {
        "id": "JmtBFr0MTkKQ",
        "colab_type": "code",
        "colab": {}
      },
      "source": [
        ""
      ],
      "execution_count": 0,
      "outputs": []
    },
    {
      "cell_type": "code",
      "metadata": {
        "id": "4zsB_2ioLPYS",
        "colab_type": "code",
        "outputId": "57622000-8413-4ac4-d2e2-6eb2fe966fd0",
        "colab": {
          "base_uri": "https://localhost:8080/",
          "height": 332
        }
      },
      "source": [
        "#DAY SEC\n",
        "\n",
        "!pip install seaborn\n",
        "!pip install sklearn"
      ],
      "execution_count": 0,
      "outputs": [
        {
          "output_type": "stream",
          "text": [
            "Requirement already satisfied: seaborn in /usr/local/lib/python3.6/dist-packages (0.9.0)\n",
            "Requirement already satisfied: matplotlib>=1.4.3 in /usr/local/lib/python3.6/dist-packages (from seaborn) (3.0.3)\n",
            "Requirement already satisfied: scipy>=0.14.0 in /usr/local/lib/python3.6/dist-packages (from seaborn) (1.3.1)\n",
            "Requirement already satisfied: numpy>=1.9.3 in /usr/local/lib/python3.6/dist-packages (from seaborn) (1.16.4)\n",
            "Requirement already satisfied: pandas>=0.15.2 in /usr/local/lib/python3.6/dist-packages (from seaborn) (0.24.2)\n",
            "Requirement already satisfied: python-dateutil>=2.1 in /usr/local/lib/python3.6/dist-packages (from matplotlib>=1.4.3->seaborn) (2.5.3)\n",
            "Requirement already satisfied: kiwisolver>=1.0.1 in /usr/local/lib/python3.6/dist-packages (from matplotlib>=1.4.3->seaborn) (1.1.0)\n",
            "Requirement already satisfied: pyparsing!=2.0.4,!=2.1.2,!=2.1.6,>=2.0.1 in /usr/local/lib/python3.6/dist-packages (from matplotlib>=1.4.3->seaborn) (2.4.2)\n",
            "Requirement already satisfied: cycler>=0.10 in /usr/local/lib/python3.6/dist-packages (from matplotlib>=1.4.3->seaborn) (0.10.0)\n",
            "Requirement already satisfied: pytz>=2011k in /usr/local/lib/python3.6/dist-packages (from pandas>=0.15.2->seaborn) (2018.9)\n",
            "Requirement already satisfied: six>=1.5 in /usr/local/lib/python3.6/dist-packages (from python-dateutil>=2.1->matplotlib>=1.4.3->seaborn) (1.12.0)\n",
            "Requirement already satisfied: setuptools in /usr/local/lib/python3.6/dist-packages (from kiwisolver>=1.0.1->matplotlib>=1.4.3->seaborn) (41.2.0)\n",
            "Requirement already satisfied: sklearn in /usr/local/lib/python3.6/dist-packages (0.0)\n",
            "Requirement already satisfied: scikit-learn in /usr/local/lib/python3.6/dist-packages (from sklearn) (0.21.3)\n",
            "Requirement already satisfied: numpy>=1.11.0 in /usr/local/lib/python3.6/dist-packages (from scikit-learn->sklearn) (1.16.4)\n",
            "Requirement already satisfied: joblib>=0.11 in /usr/local/lib/python3.6/dist-packages (from scikit-learn->sklearn) (0.13.2)\n",
            "Requirement already satisfied: scipy>=0.17.0 in /usr/local/lib/python3.6/dist-packages (from scikit-learn->sklearn) (1.3.1)\n"
          ],
          "name": "stdout"
        }
      ]
    },
    {
      "cell_type": "code",
      "metadata": {
        "id": "pKmNl8LuVWdY",
        "colab_type": "code",
        "colab": {}
      },
      "source": [
        "from gensim.models import Word2Vec\n",
        "\n",
        "import numpy as np\n",
        "import pandas as pd\n",
        "\n",
        "from sklearn.decomposition import PCA\n",
        "import seaborn as sns\n",
        "import matplotlib.pyplot as plt\n"
      ],
      "execution_count": 0,
      "outputs": []
    },
    {
      "cell_type": "code",
      "metadata": {
        "id": "OQbttDl_Xxt_",
        "colab_type": "code",
        "colab": {}
      },
      "source": [
        ""
      ],
      "execution_count": 0,
      "outputs": []
    },
    {
      "cell_type": "code",
      "metadata": {
        "id": "ibkuunaOW1fp",
        "colab_type": "code",
        "colab": {}
      },
      "source": [
        "sentences = []\n",
        "\n",
        "for i in range(1000):\n",
        "  start = np.random.randint(0,20)  \n",
        "  finish = start + np.random.randint(1,10)\n",
        "  sentence = [str(x) for x in range(start,finish)]\n",
        "\n",
        "  sentences.append(sentence)\n"
      ],
      "execution_count": 0,
      "outputs": []
    },
    {
      "cell_type": "code",
      "metadata": {
        "id": "P5iN_-gTYcUp",
        "colab_type": "code",
        "colab": {}
      },
      "source": [
        "#Model Word2Vec\n",
        "model = Word2Vec(sentences,size=10, window=4, min_count=1)"
      ],
      "execution_count": 0,
      "outputs": []
    },
    {
      "cell_type": "code",
      "metadata": {
        "id": "WKMwm-_wYYat",
        "colab_type": "code",
        "outputId": "7228d2e1-2ec1-40a2-af84-3eee0123f191",
        "colab": {
          "base_uri": "https://localhost:8080/",
          "height": 69
        }
      },
      "source": [
        "model.wv['3']"
      ],
      "execution_count": 0,
      "outputs": [
        {
          "output_type": "execute_result",
          "data": {
            "text/plain": [
              "array([ 0.47488627,  0.21205302, -0.10419419,  0.30817622,  0.04934592,\n",
              "       -0.01056316,  0.430113  , -0.18580034, -0.14642558, -0.1558784 ],\n",
              "      dtype=float32)"
            ]
          },
          "metadata": {
            "tags": []
          },
          "execution_count": 23
        }
      ]
    },
    {
      "cell_type": "code",
      "metadata": {
        "id": "-teK1OTHaKFV",
        "colab_type": "code",
        "colab": {}
      },
      "source": [
        "def plot_heatmap(model):\n",
        "  plt.figure(figsize=(15,8))\n",
        "  sns.heatmap(model.wv[model.wv.vocab], linewidth=0.5);"
      ],
      "execution_count": 0,
      "outputs": []
    },
    {
      "cell_type": "code",
      "metadata": {
        "id": "WwDJWSGHXtEX",
        "colab_type": "code",
        "outputId": "c21f96a5-4e0d-4bbe-ffdc-c15aa750fcca",
        "colab": {
          "base_uri": "https://localhost:8080/",
          "height": 506
        }
      },
      "source": [
        "plot_heatmap(Word2Vec(sentences,size=10, window=4))"
      ],
      "execution_count": 0,
      "outputs": [
        {
          "output_type": "display_data",
          "data": {
            "image/png": "[encoded data removed]",
            "text/plain": [
              "<Figure size 1080x576 with 2 Axes>"
            ]
          },
          "metadata": {
            "tags": []
          }
        }
      ]
    },
    {
      "cell_type": "code",
      "metadata": {
        "id": "gOpQJ2i0YDOq",
        "colab_type": "code",
        "outputId": "91a3c6ea-cbf6-4cb2-d603-1d67737fd17d",
        "colab": {
          "base_uri": "https://localhost:8080/",
          "height": 86
        }
      },
      "source": [
        "X = model.wv[model.wv.vocab]\n",
        "pca_model = PCA(n_components=2) \n",
        "result = pca_model.fit_transform(X)\n",
        "\n",
        "result[:,0]"
      ],
      "execution_count": 0,
      "outputs": [
        {
          "output_type": "execute_result",
          "data": {
            "text/plain": [
              "array([-0.09664049, -0.18620327, -0.0814916 ,  0.16062626,  0.03165884,\n",
              "        0.10133821,  0.0326516 , -0.12963322,  0.01006583,  0.01968812,\n",
              "       -0.1536157 , -0.18594116, -0.24529243, -0.16514345, -0.05472652,\n",
              "        0.15025684,  0.37963185,  0.41277042], dtype=float32)"
            ]
          },
          "metadata": {
            "tags": []
          },
          "execution_count": 33
        }
      ]
    },
    {
      "cell_type": "code",
      "metadata": {
        "id": "IQdiReOjYrt4",
        "colab_type": "code",
        "outputId": "f4c8737b-68d9-4f81-80a1-815955f738ff",
        "colab": {
          "base_uri": "https://localhost:8080/",
          "height": 506
        }
      },
      "source": [
        "plt.figure(figsize=(10,8))\n",
        "plt.scatter(result[:,0],result[:,1]);\n",
        "words = list(model.wv.vocab)\n",
        "for i, word in enumerate(words):\n",
        "  plt.annotate(word,xy=(result[i,0], result[i,1]))\n"
      ],
      "execution_count": 0,
      "outputs": [
        {
          "output_type": "display_data",
          "data": {
            "image/png": "[encoded data removed]",
            "text/plain": [
              "<Figure size 720x576 with 1 Axes>"
            ]
          },
          "metadata": {
            "tags": []
          }
        }
      ]
    },
    {
      "cell_type": "code",
      "metadata": {
        "id": "hdHkUFkJZ0J8",
        "colab_type": "code",
        "colab": {}
      },
      "source": [
        "def plot_pca(model):\n",
        "  X = model.wv[model.wv.vocab]\n",
        "  pca_model = PCA(n_components=2) \n",
        "  result = pca_model.fit_transform(X)\n",
        "  plt.figure(figsize=(8,5))\n",
        "  plt.scatter(result[:,0],result[:,1]);\n",
        "  words = list(model.wv.vocab)\n",
        "  for i, word in enumerate(words):\n",
        "    plt.annotate(word,xy=(result[i,0], result[i,1]))\n",
        "  "
      ],
      "execution_count": 0,
      "outputs": []
    },
    {
      "cell_type": "code",
      "metadata": {
        "id": "USB6-lSkaDXi",
        "colab_type": "code",
        "outputId": "52aeb2d3-7764-4596-8b05-25a41e54d3ed",
        "colab": {
          "base_uri": "https://localhost:8080/",
          "height": 323
        }
      },
      "source": [
        "plot_pca(Word2Vec(sentences,size=10, window=4))"
      ],
      "execution_count": 0,
      "outputs": [
        {
          "output_type": "display_data",
          "data": {
            "image/png": "[encoded data removed]",
            "text/plain": [
              "<Figure size 576x360 with 1 Axes>"
            ]
          },
          "metadata": {
            "tags": []
          }
        }
      ]
    },
    {
      "cell_type": "code",
      "metadata": {
        "id": "XEFj8vIfaOeO",
        "colab_type": "code",
        "outputId": "e9c19947-5aee-4dd2-cafe-bf93db0d717d",
        "colab": {
          "base_uri": "https://localhost:8080/",
          "height": 124
        }
      },
      "source": [
        "model.wv.most_similar(\"4\",topn=3)"
      ],
      "execution_count": 0,
      "outputs": [
        {
          "output_type": "stream",
          "text": [
            "/usr/local/lib/python3.6/dist-packages/gensim/matutils.py:737: FutureWarning: Conversion of the second argument of issubdtype from `int` to `np.signedinteger` is deprecated. In future, it will be treated as `np.int64 == np.dtype(int).type`.\n",
            "  return vec\n"
          ],
          "name": "stderr"
        },
        {
          "output_type": "execute_result",
          "data": {
            "text/plain": [
              "[('14', 0.9951675534248352),\n",
              " ('11', 0.994314432144165),\n",
              " ('12', 0.9942334890365601)]"
            ]
          },
          "metadata": {
            "tags": []
          },
          "execution_count": 46
        }
      ]
    }
  ]
}